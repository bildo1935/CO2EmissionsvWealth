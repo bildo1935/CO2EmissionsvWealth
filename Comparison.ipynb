{
 "cells": [
  {
   "cell_type": "code",
   "execution_count": 2,
   "id": "8b260ac4",
   "metadata": {},
   "outputs": [],
   "source": [
    "import numpy as np\n",
    "import pandas as pd\n",
    "import matplotlib.pyplot as plt"
   ]
  },
  {
   "cell_type": "code",
   "execution_count": 3,
   "id": "397b09f4",
   "metadata": {},
   "outputs": [
    {
     "data": {
      "text/html": [
       "<div>\n",
       "<style scoped>\n",
       "    .dataframe tbody tr th:only-of-type {\n",
       "        vertical-align: middle;\n",
       "    }\n",
       "\n",
       "    .dataframe tbody tr th {\n",
       "        vertical-align: top;\n",
       "    }\n",
       "\n",
       "    .dataframe thead th {\n",
       "        text-align: right;\n",
       "    }\n",
       "</style>\n",
       "<table border=\"1\" class=\"dataframe\">\n",
       "  <thead>\n",
       "    <tr style=\"text-align: right;\">\n",
       "      <th></th>\n",
       "      <th>Unnamed: 0</th>\n",
       "      <th>Year</th>\n",
       "      <th>Annual CO2 emissions</th>\n",
       "      <th>High Cost Estimates (USD)</th>\n",
       "      <th>Low Cost Estimates (USD)</th>\n",
       "      <th>GDP per capita</th>\n",
       "    </tr>\n",
       "  </thead>\n",
       "  <tbody>\n",
       "    <tr>\n",
       "      <th>0</th>\n",
       "      <td>0</td>\n",
       "      <td>1750</td>\n",
       "      <td>0.012540</td>\n",
       "      <td>1.128587</td>\n",
       "      <td>0.564294</td>\n",
       "      <td>348.132731</td>\n",
       "    </tr>\n",
       "    <tr>\n",
       "      <th>1</th>\n",
       "      <td>1</td>\n",
       "      <td>1751</td>\n",
       "      <td>0.012483</td>\n",
       "      <td>1.123431</td>\n",
       "      <td>0.561715</td>\n",
       "      <td>348.359475</td>\n",
       "    </tr>\n",
       "    <tr>\n",
       "      <th>2</th>\n",
       "      <td>2</td>\n",
       "      <td>1752</td>\n",
       "      <td>0.012431</td>\n",
       "      <td>1.118759</td>\n",
       "      <td>0.559379</td>\n",
       "      <td>348.586218</td>\n",
       "    </tr>\n",
       "    <tr>\n",
       "      <th>3</th>\n",
       "      <td>3</td>\n",
       "      <td>1753</td>\n",
       "      <td>0.012374</td>\n",
       "      <td>1.113693</td>\n",
       "      <td>0.556847</td>\n",
       "      <td>348.812961</td>\n",
       "    </tr>\n",
       "    <tr>\n",
       "      <th>4</th>\n",
       "      <td>4</td>\n",
       "      <td>1754</td>\n",
       "      <td>0.012323</td>\n",
       "      <td>1.109108</td>\n",
       "      <td>0.554554</td>\n",
       "      <td>349.039705</td>\n",
       "    </tr>\n",
       "    <tr>\n",
       "      <th>5</th>\n",
       "      <td>5</td>\n",
       "      <td>1755</td>\n",
       "      <td>0.012273</td>\n",
       "      <td>1.104563</td>\n",
       "      <td>0.552282</td>\n",
       "      <td>349.266448</td>\n",
       "    </tr>\n",
       "    <tr>\n",
       "      <th>6</th>\n",
       "      <td>6</td>\n",
       "      <td>1756</td>\n",
       "      <td>0.013060</td>\n",
       "      <td>1.175376</td>\n",
       "      <td>0.587688</td>\n",
       "      <td>349.493191</td>\n",
       "    </tr>\n",
       "    <tr>\n",
       "      <th>7</th>\n",
       "      <td>7</td>\n",
       "      <td>1757</td>\n",
       "      <td>0.013006</td>\n",
       "      <td>1.170577</td>\n",
       "      <td>0.585289</td>\n",
       "      <td>349.719935</td>\n",
       "    </tr>\n",
       "    <tr>\n",
       "      <th>8</th>\n",
       "      <td>8</td>\n",
       "      <td>1758</td>\n",
       "      <td>0.012954</td>\n",
       "      <td>1.165821</td>\n",
       "      <td>0.582911</td>\n",
       "      <td>349.946678</td>\n",
       "    </tr>\n",
       "    <tr>\n",
       "      <th>9</th>\n",
       "      <td>9</td>\n",
       "      <td>1759</td>\n",
       "      <td>0.012901</td>\n",
       "      <td>1.161107</td>\n",
       "      <td>0.580553</td>\n",
       "      <td>350.173421</td>\n",
       "    </tr>\n",
       "  </tbody>\n",
       "</table>\n",
       "</div>"
      ],
      "text/plain": [
       "   Unnamed: 0  Year  Annual CO2 emissions  High Cost Estimates (USD)  \\\n",
       "0           0  1750              0.012540                   1.128587   \n",
       "1           1  1751              0.012483                   1.123431   \n",
       "2           2  1752              0.012431                   1.118759   \n",
       "3           3  1753              0.012374                   1.113693   \n",
       "4           4  1754              0.012323                   1.109108   \n",
       "5           5  1755              0.012273                   1.104563   \n",
       "6           6  1756              0.013060                   1.175376   \n",
       "7           7  1757              0.013006                   1.170577   \n",
       "8           8  1758              0.012954                   1.165821   \n",
       "9           9  1759              0.012901                   1.161107   \n",
       "\n",
       "   Low Cost Estimates (USD)  GDP per capita  \n",
       "0                  0.564294      348.132731  \n",
       "1                  0.561715      348.359475  \n",
       "2                  0.559379      348.586218  \n",
       "3                  0.556847      348.812961  \n",
       "4                  0.554554      349.039705  \n",
       "5                  0.552282      349.266448  \n",
       "6                  0.587688      349.493191  \n",
       "7                  0.585289      349.719935  \n",
       "8                  0.582911      349.946678  \n",
       "9                  0.580553      350.173421  "
      ]
     },
     "execution_count": 3,
     "metadata": {},
     "output_type": "execute_result"
    }
   ],
   "source": [
    "df = pd.read_csv(\"Cost vs RGDPpc.csv\")\n",
    "df.head(10)"
   ]
  },
  {
   "cell_type": "code",
   "execution_count": 7,
   "id": "9e34bf98",
   "metadata": {},
   "outputs": [
    {
     "data": {
      "text/plain": [
       "<matplotlib.legend.Legend at 0x25d3431feb0>"
      ]
     },
     "execution_count": 7,
     "metadata": {},
     "output_type": "execute_result"
    },
    {
     "data": {
      "image/png": "[encoded data removed]",
      "text/plain": [
       "<Figure size 432x288 with 1 Axes>"
      ]
     },
     "metadata": {
      "needs_background": "light"
     },
     "output_type": "display_data"
    }
   ],
   "source": [
    "plt.plot(df['Year'], df['High Cost Estimates (USD)'], 'g-', label = 'Carbon Emission Cost Estimates (High) per capita')\n",
    "plt.plot(df['Year'], df['Low Cost Estimates (USD)'], 'b-', label = 'Carbon Emission Cost Estimates (Low) per capita')\n",
    "plt.plot(df['Year'], df['GDP per capita'], 'r-', label = 'Real GDP per capita (PPP-Adjusted)')\n",
    "plt.title(\"Per-capita Cost Estimates of Carbon Emissions vs Per-capita PPP-Adjusted Real GDP (1750-2020)\")\n",
    "plt.xlabel(\"Time (Years)\")\n",
    "plt.ylabel(\"USD (January 2020 Value)\")\n",
    "plt.legend()"
   ]
  },
  {
   "cell_type": "markdown",
   "id": "859f4c19",
   "metadata": {},
   "source": [
    "As seen above, the data shows that the real GDP per capita far exceeds the per capita cost estimates of carbon emissions. However, one should not immediately jump at the conclusion that the wealth gained far exceeds the carbon-induced environmental costs and that current economic and environmental practices are optimal. \n",
    "This is for two reasons. Firstly, although the carbon tax pricing scheme used in this analysis is far higher than any current instances, the Carbon Pricing Coalition Leadership might have lowered their original numbers (i.e. ones more representative of actual cost to the environment) to increase adoption by countries which are more economic-driven. Secondly, the actual environmental cost of current economic practices are cannot merely be quantified based on the cost of carbon emissions. The actual aggregate cost would necessarily have to include the cost of CFC emissions, the cost of deforestation and the cost of marine pollution among other effects. When all the costs are summed up, the summed cost may very well exceed the value of created wealth. "
   ]
  }
 ],
 "metadata": {
  "kernelspec": {
   "display_name": "Python 3 (ipykernel)",
   "language": "python",
   "name": "python3"
  },
  "language_info": {
   "codemirror_mode": {
    "name": "ipython",
    "version": 3
   },
   "file_extension": ".py",
   "mimetype": "text/x-python",
   "name": "python",
   "nbconvert_exporter": "python",
   "pygments_lexer": "ipython3",
   "version": "3.9.13"
  }
 },
 "nbformat": 4,
 "nbformat_minor": 5
}
