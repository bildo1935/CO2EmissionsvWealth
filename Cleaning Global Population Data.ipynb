{
 "cells": [
  {
   "cell_type": "code",
   "execution_count": 73,
   "id": "68b7beaf",
   "metadata": {},
   "outputs": [],
   "source": [
    "import numpy as np\n",
    "import pandas as pd"
   ]
  },
  {
   "cell_type": "code",
   "execution_count": 74,
   "id": "d8306ab5",
   "metadata": {},
   "outputs": [
    {
     "data": {
      "text/html": [
       "<div>\n",
       "<style scoped>\n",
       "    .dataframe tbody tr th:only-of-type {\n",
       "        vertical-align: middle;\n",
       "    }\n",
       "\n",
       "    .dataframe tbody tr th {\n",
       "        vertical-align: top;\n",
       "    }\n",
       "\n",
       "    .dataframe thead th {\n",
       "        text-align: right;\n",
       "    }\n",
       "</style>\n",
       "<table border=\"1\" class=\"dataframe\">\n",
       "  <thead>\n",
       "    <tr style=\"text-align: right;\">\n",
       "      <th></th>\n",
       "      <th>index</th>\n",
       "      <th>Year</th>\n",
       "      <th>Population (historical estimates)</th>\n",
       "    </tr>\n",
       "  </thead>\n",
       "  <tbody>\n",
       "    <tr>\n",
       "      <th>221</th>\n",
       "      <td>54873</td>\n",
       "      <td>2016</td>\n",
       "      <td>7464344232</td>\n",
       "    </tr>\n",
       "    <tr>\n",
       "      <th>222</th>\n",
       "      <td>54874</td>\n",
       "      <td>2017</td>\n",
       "      <td>7548182589</td>\n",
       "    </tr>\n",
       "    <tr>\n",
       "      <th>223</th>\n",
       "      <td>54875</td>\n",
       "      <td>2018</td>\n",
       "      <td>7631091110</td>\n",
       "    </tr>\n",
       "    <tr>\n",
       "      <th>224</th>\n",
       "      <td>54876</td>\n",
       "      <td>2019</td>\n",
       "      <td>7713468203</td>\n",
       "    </tr>\n",
       "    <tr>\n",
       "      <th>225</th>\n",
       "      <td>54877</td>\n",
       "      <td>2020</td>\n",
       "      <td>7794798725</td>\n",
       "    </tr>\n",
       "  </tbody>\n",
       "</table>\n",
       "</div>"
      ],
      "text/plain": [
       "     index  Year  Population (historical estimates)\n",
       "221  54873  2016                         7464344232\n",
       "222  54874  2017                         7548182589\n",
       "223  54875  2018                         7631091110\n",
       "224  54876  2019                         7713468203\n",
       "225  54877  2020                         7794798725"
      ]
     },
     "execution_count": 74,
     "metadata": {},
     "output_type": "execute_result"
    }
   ],
   "source": [
    "#population.csv from ourworldindata.org\n",
    "#Missing population values(i.e years 1751-1759, 1761-1769, 1771-1779, 1781-1789, 1791-1799) were filled in using pandas.Series.interpolate()\n",
    "#Interpolation method was linear\n",
    "\n",
    "df = pd.read_csv(\"population.csv\")\n",
    "df = df.loc[1749 < df['Year']]\n",
    "df = df.loc[df['Year'] < 2021]\n",
    "df = df.loc[df['Entity'] == 'World']\n",
    "df = df.drop(columns = ['Code', 'Entity'])\n",
    "df.reset_index(inplace=True)\n",
    "df.tail(5)"
   ]
  },
  {
   "cell_type": "code",
   "execution_count": 75,
   "id": "d5747c7b",
   "metadata": {},
   "outputs": [],
   "source": [
    "dict = {}\n",
    "\n",
    "for i in df.index.tolist():\n",
    "    dict[df.iloc[i]['Year']] = df.iloc[i]['Population (historical estimates)']"
   ]
  },
  {
   "cell_type": "code",
   "execution_count": 76,
   "id": "a1ec6cfd",
   "metadata": {},
   "outputs": [],
   "source": [
    "for i in range(1751,1760):\n",
    "    dict[i] = np.NaN\n",
    "    \n",
    "for i in range(1761,1770):\n",
    "    dict[i] = np.NaN\n",
    "    \n",
    "for i in range(1771,1780):\n",
    "    dict[i] = np.NaN\n",
    "    \n",
    "for i in range(1781,1790):\n",
    "    dict[i] = np.NaN\n",
    "    \n",
    "for i in range(1791,1800):\n",
    "    dict[i] = np.NaN"
   ]
  },
  {
   "cell_type": "code",
   "execution_count": 40,
   "id": "a39e299e",
   "metadata": {},
   "outputs": [
    {
     "data": {
      "text/plain": [
       "nan"
      ]
     },
     "execution_count": 40,
     "metadata": {},
     "output_type": "execute_result"
    }
   ],
   "source": [
    "dict[1751]"
   ]
  },
  {
   "cell_type": "code",
   "execution_count": 77,
   "id": "fe18b248",
   "metadata": {},
   "outputs": [],
   "source": [
    "world_df = pd.DataFrame.from_dict(dict, orient='index', columns=['Population'])\n",
    "world_df = world_df.sort_index(axis=0)"
   ]
  },
  {
   "cell_type": "code",
   "execution_count": 66,
   "id": "d05cda1f",
   "metadata": {},
   "outputs": [
    {
     "data": {
      "text/plain": [
       "['Population']"
      ]
     },
     "execution_count": 66,
     "metadata": {},
     "output_type": "execute_result"
    }
   ],
   "source": [
    "list(world_df.columns)"
   ]
  },
  {
   "cell_type": "code",
   "execution_count": 78,
   "id": "8fa03655",
   "metadata": {},
   "outputs": [],
   "source": [
    "world_df['Population'] = world_df['Population'].interpolate(method='linear')"
   ]
  },
  {
   "cell_type": "code",
   "execution_count": 79,
   "id": "a0e34325",
   "metadata": {},
   "outputs": [],
   "source": [
    "world_df.to_csv(\"Cleaned Global Population Data.csv\")"
   ]
  }
 ],
 "metadata": {
  "kernelspec": {
   "display_name": "Python 3 (ipykernel)",
   "language": "python",
   "name": "python3"
  },
  "language_info": {
   "codemirror_mode": {
    "name": "ipython",
    "version": 3
   },
   "file_extension": ".py",
   "mimetype": "text/x-python",
   "name": "python",
   "nbconvert_exporter": "python",
   "pygments_lexer": "ipython3",
   "version": "3.9.13"
  }
 },
 "nbformat": 4,
 "nbformat_minor": 5
}
