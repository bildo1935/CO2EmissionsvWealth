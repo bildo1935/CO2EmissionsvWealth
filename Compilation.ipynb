{
 "cells": [
  {
   "cell_type": "code",
   "execution_count": 10,
   "id": "f899212c",
   "metadata": {},
   "outputs": [],
   "source": [
    "import numpy as np\n",
    "import pandas as pd\n",
    "import matplotlib.pyplot as plt"
   ]
  },
  {
   "cell_type": "code",
   "execution_count": 11,
   "id": "18ee057a",
   "metadata": {},
   "outputs": [],
   "source": [
    "df1 = pd.read_csv(\"Annual CO2 Emissions to Cost (tons to USD).csv\")\n",
    "df2 = pd.read_csv(\"Real GDP per capita.csv\")\n",
    "joined_df = df1.merge(df2, on='Year')\n",
    "joined_df.drop(columns=['Unnamed: 0_x', 'Unnamed: 0_y'], inplace=True)"
   ]
  },
  {
   "cell_type": "code",
   "execution_count": 12,
   "id": "1d31e18e",
   "metadata": {},
   "outputs": [],
   "source": [
    "joined_df.to_csv(\"Cost vs RGDPpc.csv\")"
   ]
  }
 ],
 "metadata": {
  "kernelspec": {
   "display_name": "Python 3 (ipykernel)",
   "language": "python",
   "name": "python3"
  },
  "language_info": {
   "codemirror_mode": {
    "name": "ipython",
    "version": 3
   },
   "file_extension": ".py",
   "mimetype": "text/x-python",
   "name": "python",
   "nbconvert_exporter": "python",
   "pygments_lexer": "ipython3",
   "version": "3.9.13"
  }
 },
 "nbformat": 4,
 "nbformat_minor": 5
}
