{
 "cells": [
  {
   "cell_type": "code",
   "execution_count": 12,
   "id": "b1386ab5",
   "metadata": {},
   "outputs": [],
   "source": [
    "import numpy as np\n",
    "import pandas as pd"
   ]
  },
  {
   "cell_type": "code",
   "execution_count": 13,
   "id": "9aac3fc1",
   "metadata": {},
   "outputs": [],
   "source": [
    "#Real GDP per capita values (in 2011 international dollars and adjusted for PPP) from 1820-2018 sourced from Our World in Data/Maddison Project Database 2020 (Bolt and van Zanden, 2020)\n",
    "#Missing data was filled in via pandas.Series.interpolate() using linear methods.\n",
    "#USD equals international dollars \n",
    "#Values will be converted into 2020 international dollars https://data.bls.gov/cgi-bin/cpicalc.pl? by US Bureau of Labor Statistics. \n",
    "gdp = pd.read_csv(\"gdp-per-capita-maddison-2020.csv\")\n",
    "gdp = gdp.loc[gdp['Entity']=='World']\n",
    "gdp = gdp.reset_index()\n",
    "gdp = gdp.drop(columns=['Code', 'Entity', '417485-annotations', 'index'])\n",
    "for value in gdp['GDP per capita']:\n",
    "    value = value*1.17 #conversion occurs\n"
   ]
  },
  {
   "cell_type": "code",
   "execution_count": 14,
   "id": "0e982535",
   "metadata": {},
   "outputs": [],
   "source": [
    "dict = {}\n",
    "\n",
    "for i in gdp.index.tolist():\n",
    "    dict[gdp.iloc[i]['Year']] = gdp.iloc[i]['GDP per capita']\n",
    "\n",
    "for year in range(1821, 1850, 1):\n",
    "    dict[year] = np.NaN    \n",
    "for year in range(1851, 1870, 1):\n",
    "    dict[year] = np.NaN\n",
    "for year in range(1871, 1900, 1):\n",
    "    dict[year] = np.NaN\n",
    "for year in range(1901, 1920, 1):\n",
    "    dict[year] = np.NaN\n",
    "for year in range(1921, 1940, 1):\n",
    "    dict[year] = np.NaN\n",
    "for year in range(1941, 1950, 1):\n",
    "    dict[year] = np.NaN\n",
    "for year in range(1951, 1960, 1):\n",
    "    dict[year] = np.NaN\n",
    "for year in range(1961, 1970, 1):\n",
    "    dict[year] = np.NaN\n",
    "for year in range(1971, 1980, 1):\n",
    "    dict[year] = np.NaN\n",
    "for year in range(1981, 1990, 1):\n",
    "    dict[year] = np.NaN\n",
    "for year in range(1991, 2000, 1):\n",
    "    dict[year] = np.NaN\n",
    "for year in range(2001, 2010, 1):\n",
    "    dict[year] = np.NaN\n",
    "for year in range(2011, 2016, 1):\n",
    "    dict[year] = np.NaN"
   ]
  },
  {
   "cell_type": "code",
   "execution_count": 15,
   "id": "33575b77",
   "metadata": {},
   "outputs": [],
   "source": [
    "world_gdp = pd.DataFrame.from_dict(dict, orient='index', columns=['GDP per capita'])\n",
    "world_gdp = world_gdp.sort_index(axis=0)\n",
    "world_gdp['GDP per capita'] = world_gdp['GDP per capita'].interpolate(method='linear')"
   ]
  },
  {
   "cell_type": "code",
   "execution_count": 16,
   "id": "339e3f9a",
   "metadata": {},
   "outputs": [],
   "source": [
    "#Global real GDP values (in 1990 international dollars and adjusted for PPP) from 1750 and 1800 sourced from DeLong(1998)\n",
    "#Missing data was filled in via pandas.Series.interpolate() using linear methods.\n",
    "#USD equals international dollars\n",
    "#Real GDP per capita values (in 2020 international dollars and adjusted for PPP) for 2019 and 2020 sourced from World Bank\n",
    "#Values will be converted into 2020 international dollars https://data.bls.gov/cgi-bin/cpicalc.pl? by US Bureau of Labor Statistics.\n",
    "\n",
    "dict = {1750: 128510000000*2.02/745664445.0, 1800: 175240000000*2.02/984741151.0, 2019: 17627.7, 2020: 17224}\n",
    "for year in range(1751, 1800, 1):\n",
    "    dict[year] = np.NaN\n",
    "for year in range(1801, 1820, 1):\n",
    "    dict[year] = np.NaN\n",
    "small_gdp = pd.DataFrame.from_dict(dict, orient='index', columns=['GDP per capita'])\n",
    "world_gdp = pd.concat([small_gdp, world_gdp])\n",
    "world_gdp = world_gdp.sort_index(axis=0)\n",
    "world_gdp['GDP per capita'] = world_gdp['GDP per capita'].interpolate(method='linear')"
   ]
  },
  {
   "cell_type": "code",
   "execution_count": 17,
   "id": "190386a1",
   "metadata": {},
   "outputs": [],
   "source": [
    "world_gdp.reset_index(inplace=True)\n",
    "world_gdp = world_gdp.rename({'index': 'Year'}, axis=1)\n",
    "world_gdp['Year'] = world_gdp['Year'].astype(int)\n",
    "world_gdp.to_csv(\"Real GDP per capita.csv\")"
   ]
  }
 ],
 "metadata": {
  "kernelspec": {
   "display_name": "Python 3 (ipykernel)",
   "language": "python",
   "name": "python3"
  },
  "language_info": {
   "codemirror_mode": {
    "name": "ipython",
    "version": 3
   },
   "file_extension": ".py",
   "mimetype": "text/x-python",
   "name": "python",
   "nbconvert_exporter": "python",
   "pygments_lexer": "ipython3",
   "version": "3.9.13"
  }
 },
 "nbformat": 4,
 "nbformat_minor": 5
}
